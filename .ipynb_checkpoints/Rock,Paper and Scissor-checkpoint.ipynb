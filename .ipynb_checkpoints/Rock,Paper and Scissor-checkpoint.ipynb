{
 "cells": [
  {
   "cell_type": "code",
   "execution_count": 1,
   "metadata": {},
   "outputs": [
    {
     "name": "stdout",
     "output_type": "stream",
     "text": [
      "Rock(R), Paper(P), Scissor(S)?S\n",
      "S vs S\n",
      "Draw!!!\n"
     ]
    }
   ],
   "source": [
    "#!/bin/python3\n",
    "\n",
    "from random import randint\n",
    "\n",
    "player = input(\"Rock(R), Paper(P), Scissor(S)?\")\n",
    "\n",
    "choice = randint(1, 3)\n",
    "\n",
    "computer = \"\"\n",
    "if choice == 1:\n",
    "    computer = \"R\"\n",
    "\n",
    "elif choice == 2:\n",
    "    computer == \"P\"\n",
    "\n",
    "else:\n",
    "    computer = \"S\"\n",
    "\n",
    "print (player, \"vs\", computer)\n",
    "\n",
    "if player == computer:\n",
    "    print(\"Draw!!!\")\n",
    "\n",
    "elif (player == \"R\" and computer == \"S\"):\n",
    "    print(\"Player Won!\")\n",
    "\n",
    "elif (player == \"R\" and computer == \"P\"):\n",
    "    print(\"Computer Won!\")\n",
    "\n",
    "elif (player == \"P\" and computer == \"S\"):\n",
    "    print(\"Computer Won!\")\n",
    "\n",
    "elif (player == \"P\" and computer == \"R\"):\n",
    "    print(\"Player Won!\")\n",
    "\n",
    "elif (player == \"S\" and computer == \"R\"):\n",
    "    print(\"Computer Won!\")\n",
    "\n",
    "elif (player == \"S\" and computer == \"P\"):\n",
    "    print(\"Player Won!\")\n"
   ]
  },
  {
   "cell_type": "code",
   "execution_count": null,
   "metadata": {},
   "outputs": [],
   "source": []
  },
  {
   "cell_type": "code",
   "execution_count": null,
   "metadata": {},
   "outputs": [],
   "source": []
  },
  {
   "cell_type": "code",
   "execution_count": null,
   "metadata": {},
   "outputs": [],
   "source": []
  }
 ],
 "metadata": {
  "kernelspec": {
   "display_name": "Python 3",
   "language": "python",
   "name": "python3"
  },
  "language_info": {
   "codemirror_mode": {
    "name": "ipython",
    "version": 3
   },
   "file_extension": ".py",
   "mimetype": "text/x-python",
   "name": "python",
   "nbconvert_exporter": "python",
   "pygments_lexer": "ipython3",
   "version": "3.6.5"
  }
 },
 "nbformat": 4,
 "nbformat_minor": 2
}
